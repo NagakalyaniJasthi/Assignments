{
 "cells": [
  {
   "cell_type": "markdown",
   "metadata": {},
   "source": [
    "# Factorial"
   ]
  },
  {
   "cell_type": "code",
   "execution_count": null,
   "metadata": {},
   "outputs": [],
   "source": [
    "a = int(input(\"Enter a number:\"))\n",
    "factorial=1\n",
    "for i in range(1,a+1) :\n",
    " factorial = factorial*i\n",
    "print(\"Factorial of\",a,\"is:\",factorial)\n"
   ]
  },
  {
   "cell_type": "markdown",
   "metadata": {},
   "source": [
    "# BigNumber"
   ]
  },
  {
   "cell_type": "code",
   "execution_count": null,
   "metadata": {},
   "outputs": [],
   "source": [
    "a=int(input(\"Enter first number:\"))\n",
    "b=int(input(\"Enter second number:\"))\n",
    "c=int(input(\"Enter third number:\"))\n",
    "if a>b and a>c :\n",
    "    print(a,\"is big\")\n",
    "elif b>a and b>c :\n",
    "     print(b,\"is big\")\n",
    "elif c>a and c>b :\n",
    "        print(c,\"is big\")\n",
    "else :\n",
    "        print(\"All are equal\")"
   ]
  },
  {
   "cell_type": "markdown",
   "metadata": {},
   "source": [
    "# LeapYear"
   ]
  },
  {
   "cell_type": "code",
   "execution_count": null,
   "metadata": {},
   "outputs": [],
   "source": [
    "a = int(input(\"Enter a number:\"))\n",
    "\n",
    "if a%4 !=0:\n",
    "    print(a,\" not is leap year\")\n",
    "elif a%100!=0 :\n",
    "     print(a,\"leap year\")\n",
    "elif a%400!=0:\n",
    "      print(a,\" not is leap year\")\n",
    "else:\n",
    "    print(a,\" is leap year\")"
   ]
  },
  {
   "cell_type": "markdown",
   "metadata": {},
   "source": [
    "# EvenOdd"
   ]
  },
  {
   "cell_type": "code",
   "execution_count": null,
   "metadata": {},
   "outputs": [],
   "source": [
    "a = int(input(\"Enter a number:\"))\n",
    "if a%2==0 :\n",
    "    print (a,\"is Even number\")\n",
    "else :\n",
    "    print (a,\"is Odd number\")"
   ]
  },
  {
   "cell_type": "markdown",
   "metadata": {},
   "source": [
    "# PositiveNegtive"
   ]
  },
  {
   "cell_type": "code",
   "execution_count": null,
   "metadata": {},
   "outputs": [],
   "source": [
    "a = int(input(\"Enter a number:\"))\n",
    "if a < 0 :\n",
    " print (a,\"is Negitive number\")\n",
    "elif a > 0:\n",
    "    print (a,\"is Positive number\")\n",
    "else:\n",
    "        print (a,\"is zero\")"
   ]
  },
  {
   "cell_type": "markdown",
   "metadata": {},
   "source": [
    "# Multiples"
   ]
  },
  {
   "cell_type": "code",
   "execution_count": null,
   "metadata": {},
   "outputs": [],
   "source": [
    "a = int(input(\"Enter the number:\"))\n",
    "for i in range (1,11):\n",
    "    print (a,\"*\",i,\":\",a*i)"
   ]
  },
  {
   "cell_type": "markdown",
   "metadata": {},
   "source": [
    "# Months"
   ]
  },
  {
   "cell_type": "code",
   "execution_count": 2,
   "metadata": {},
   "outputs": [
    {
     "name": "stdout",
     "output_type": "stream",
     "text": [
      "enter the month : Jan\n",
      "31 days in this month\n"
     ]
    }
   ],
   "source": [
    "months={'Jan':'31','Feb':'28/29','Mar':'31','Apr':'30','May':'31','Jun':'30','Jul':'31','Aug':'31','Sep':'30','Oct':'31','Nov':'30','Dec':'31'}\n",
    "a=input(\"enter the month : \")\n",
    "print(\"{0} days in this month\".format(months[a])) "
   ]
  },
  {
   "cell_type": "markdown",
   "metadata": {},
   "source": [
    "# Checking prime or not"
   ]
  },
  {
   "cell_type": "code",
   "execution_count": 3,
   "metadata": {},
   "outputs": [
    {
     "name": "stdout",
     "output_type": "stream",
     "text": [
      "Enter min value1\n",
      "Enter max valuel10\n",
      "2\n",
      "3\n",
      "5\n",
      "7\n"
     ]
    }
   ],
   "source": [
    "min = int(input(\"Enter min value\")) \n",
    "max = int(input(\"Enter max valuel\")) \n",
    "for num in range(min,max + 1): \n",
    " if num > 1: \n",
    "  for i in range(2,num): \n",
    "   if (num % i) == 0: \n",
    "    break \n",
    "  else: \n",
    "   print(num)"
   ]
  },
  {
   "cell_type": "markdown",
   "metadata": {},
   "source": [
    "# Fibonacci Series"
   ]
  },
  {
   "cell_type": "code",
   "execution_count": 5,
   "metadata": {},
   "outputs": [
    {
     "name": "stdout",
     "output_type": "stream",
     "text": [
      "Enter a num:4\n",
      "0\n",
      "1\n",
      "1\n",
      "2\n"
     ]
    }
   ],
   "source": [
    "a = 0\n",
    "b = 1\n",
    "x = int(input(\"Enter a num:\"))\n",
    "print(a)\n",
    "for i in range (1,x):\n",
    " if i <= 1:\n",
    "  c = 1\n",
    " else:\n",
    "  c = a+b\n",
    "  a = b\n",
    "  b = c\n",
    " print(c)"
   ]
  },
  {
   "cell_type": "markdown",
   "metadata": {},
   "source": [
    "# Sum of Natural Number"
   ]
  },
  {
   "cell_type": "code",
   "execution_count": 6,
   "metadata": {},
   "outputs": [
    {
     "name": "stdout",
     "output_type": "stream",
     "text": [
      "Enter a number:3\n",
      "6\n"
     ]
    }
   ],
   "source": [
    "n = int(input(\"Enter a number:\"))\n",
    "sum = 0\n",
    "for i in range (1,n+1):\n",
    " sum = sum + i\n",
    "print(sum)"
   ]
  },
  {
   "cell_type": "code",
   "execution_count": null,
   "metadata": {},
   "outputs": [],
   "source": []
  },
  {
   "cell_type": "code",
   "execution_count": null,
   "metadata": {},
   "outputs": [],
   "source": []
  },
  {
   "cell_type": "code",
   "execution_count": null,
   "metadata": {},
   "outputs": [],
   "source": []
  }
 ],
 "metadata": {
  "kernelspec": {
   "display_name": "Python 3",
   "language": "python",
   "name": "python3"
  },
  "language_info": {
   "codemirror_mode": {
    "name": "ipython",
    "version": 3
   },
   "file_extension": ".py",
   "mimetype": "text/x-python",
   "name": "python",
   "nbconvert_exporter": "python",
   "pygments_lexer": "ipython3",
   "version": "3.6.4"
  }
 },
 "nbformat": 4,
 "nbformat_minor": 2
}
